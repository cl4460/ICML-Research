{
 "cells": [
  {
   "cell_type": "code",
   "execution_count": 3,
   "metadata": {},
   "outputs": [],
   "source": [
    "from NaiveRAG.search.Naive_search import Naive_search\n",
    "from NaiveRAG.build.Naive_config import NaiveConfig\n",
    "import yaml\n",
    "\n",
    "with open('Nconfig.yaml', 'r') as f:\n",
    "    config = yaml.safe_load(f)\n",
    "\n",
    "search_config = NaiveConfig(config)\n",
    "\n",
    "naive_search = Naive_search(search_config)\n",
    "\n"
   ]
  },
  {
   "cell_type": "code",
   "execution_count": 2,
   "metadata": {},
   "outputs": [
    {
     "data": {
      "text/plain": [
       "\"The theme of the story revolves around the contrast between the ordinary and the extraordinary, as well as the idea of identity and belonging. The narrative begins with Mr. Dursley, who represents a mundane, normal life, completely unaware of the magical world that exists around him. This sets the stage for the introduction of Harry Potter, a boy who is special and destined for greatness, yet is raised in a household that denies his true identity and heritage. The story explores themes of family, acceptance, and the struggle between good and evil, particularly through Harry's journey of discovering who he is and the legacy he carries. The presence of magical elements, such as owls flying in daylight and people in cloaks, symbolizes the intrusion of the extraordinary into the ordinary world, highlighting the tension between these two realms.\""
      ]
     },
     "execution_count": 2,
     "metadata": {},
     "output_type": "execute_result"
    }
   ],
   "source": [
    "naive_search.answer(\"What's the theme of this story?\")\n"
   ]
  },
  {
   "cell_type": "code",
   "execution_count": 7,
   "metadata": {},
   "outputs": [
    {
     "name": "stderr",
     "output_type": "stream",
     "text": [
      "d:\\github\\GP_rag\\TGRAG\\logging\\error.py:23: RuntimeWarning: coroutine 'AsyncCompletions.create' was never awaited\n",
      "  return await str(e)\n",
      "RuntimeWarning: Enable tracemalloc to get the object allocation traceback\n"
     ]
    },
    {
     "data": {
      "text/plain": [
       "'catching classes that do not inherit from BaseException is not allowed'"
      ]
     },
     "execution_count": 7,
     "metadata": {},
     "output_type": "execute_result"
    }
   ],
   "source": [
    "import asyncio\n",
    "input ={'query':'What is the meaning of life?'}\n",
    "await search_config.API_client(input)\n"
   ]
  }
 ],
 "metadata": {
  "kernelspec": {
   "display_name": "Python 3",
   "language": "python",
   "name": "python3"
  },
  "language_info": {
   "codemirror_mode": {
    "name": "ipython",
    "version": 3
   },
   "file_extension": ".py",
   "mimetype": "text/x-python",
   "name": "python",
   "nbconvert_exporter": "python",
   "pygments_lexer": "ipython3",
   "version": "3.10.13"
  }
 },
 "nbformat": 4,
 "nbformat_minor": 2
}
